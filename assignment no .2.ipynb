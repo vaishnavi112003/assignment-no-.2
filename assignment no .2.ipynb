{
 "cells": [
  {
   "cell_type": "markdown",
   "id": "65acc4ef-f5c6-4c96-9a55-f28dd9aafa7c",
   "metadata": {},
   "source": [
    "Q1. How do you comment code in Python? What are the different types of comments?"
   ]
  },
  {
   "cell_type": "markdown",
   "id": "ba912ca1-69c1-4544-93e3-785663f1ee5f",
   "metadata": {},
   "source": [
    "# is used to comment code in python. it is used to make code more readable.it starts with #, python can ignore them.\n",
    "#types of comments are as follow:\n",
    "#single line comment :-we use # symbol .\n",
    "#multiline comments :- in these we add # for each line \n",
    "\"\"\"Since Python will ignore string literals that are not assigned to a variable,\n",
    "you can add a multiline string (triple quotes) in your code, and place your comment inside it.\"\"\"  \n",
    "\n",
    "\n"
   ]
  },
  {
   "cell_type": "markdown",
   "id": "f1c1516b-50ca-45b6-8106-ceb20c15bcf2",
   "metadata": {},
   "source": [
    "Q2. What are variables in Python? How do you declare and assign values to variables?"
   ]
  },
  {
   "cell_type": "markdown",
   "id": "c15875b7-8fc1-4872-9a94-aee146cdf856",
   "metadata": {},
   "source": [
    "Variables are simply containers for storing data values.Python has no command for declaring a variable.\n",
    "A variable is created the moment you first assign a value to it.\n",
    "Example. x = \"vaishu\"\n",
    "         y = 77\n",
    "Variables do not need to be declared with any particular type, and can even change type after they have been set.\n",
    "the assignment operator is  denoted \"= \"used to assign values to variable in python.\n",
    "\n",
    "         "
   ]
  },
  {
   "cell_type": "markdown",
   "id": "6a990ca0-4f57-4403-912d-f00014c154ba",
   "metadata": {},
   "source": [
    "Q3. How do you convert one data type to another in Python?"
   ]
  },
  {
   "cell_type": "markdown",
   "id": "ccd0a65e-8dc7-440a-a209-8103e5ef75de",
   "metadata": {},
   "source": [
    "type conversion is the process of converting one data type to another data type in python .\n",
    "we use type of conversion function to convert one data to another.\n",
    "1) int():convert a number or string containing a whole number to an integer .\n",
    "eg.(1)  ss= \"345\"\n",
    "        si = int (ss)\n",
    "2) float():convert a number or string contaning a floating-point number to float .\n",
    "eg .2)float_str ='3.14'\n",
    "      num_float = float(float_str)\n",
    "3) str():converts to value to string.\n",
    "eg.(3) num = 43 \n",
    "       num_str = str( num )\n",
    "4) list(),tupel(),set(): converts a sequence (eg.,string ,tuple) to list ,tuple or set respectively.  \n",
    "eg .(4) str_my = \"hello\"\n",
    "        my_list = list(str_my) \n"
   ]
  },
  {
   "cell_type": "markdown",
   "id": "367c092d-6946-4561-a8f7-e843d59acd1a",
   "metadata": {},
   "source": [
    "Q4. How do you write and execute a Python script from the command line?"
   ]
  },
  {
   "cell_type": "code",
   "execution_count": null,
   "id": "40489004-b159-46d3-813c-22f56bb48dfb",
   "metadata": {},
   "outputs": [],
   "source": [
    "The most basic and easy way to run a python script by using python command . \n",
    "1)you need to open a command line and type the word python followed by the path .to your script file .\n",
    "like this :python first_script.py hello world ! and then you hint the enetrbutton the key board, and thats it's.\n",
    "\n"
   ]
  },
  {
   "cell_type": "markdown",
   "id": "c984194c-7431-4636-931d-1d9b8a9a616c",
   "metadata": {},
   "source": [
    "Q5. Given a list my_list = [1, 2, 3, 4, 5], write the code to slice the list and obtain the sub-list [2, 3]."
   ]
  },
  {
   "cell_type": "code",
   "execution_count": 1,
   "id": "54b9cb8c-0024-480a-a129-9875b6883cde",
   "metadata": {},
   "outputs": [
    {
     "data": {
      "text/plain": [
       "[2, 3]"
      ]
     },
     "execution_count": 1,
     "metadata": {},
     "output_type": "execute_result"
    }
   ],
   "source": [
    "my_list = [1, 2, 3, 4, 5]\n",
    "my_list[1:3]"
   ]
  },
  {
   "cell_type": "markdown",
   "id": "7b88cf8d-5ef6-4c94-9b5b-ca4827cd3f8f",
   "metadata": {},
   "source": [
    "Q6. What is a complex number in mathematics, and how is it represented in Python?"
   ]
  },
  {
   "cell_type": "markdown",
   "id": "6b5aa0ac-db1a-4261-a51b-6560b646af7e",
   "metadata": {},
   "source": [
    "''' In maths a comlpex number is a number that can be expressed in the form of 'a+bi'.\n",
    "where 'a'and 'b' are real numbers, and 'i' is the imaginary unit (defined as the square root of -1).\n",
    "                                                                                                                       \n",
    "In python ,complex number are represented using the 'complex' data type.\n",
    "eg .\n",
    "z = 5+7j\n",
    " \n",
    " here '5' is the real part and '7j' is imaginary part. you can perform various opertions on complex numbers using pythons built -in functions and operitons .'''"
   ]
  },
  {
   "cell_type": "markdown",
   "id": "6d75af72-88aa-4ecf-a04f-2a0e61b050da",
   "metadata": {},
   "source": [
    "Q7. What is the correct way to declare a variable named age and assign the value 25 to it?"
   ]
  },
  {
   "cell_type": "code",
   "execution_count": 3,
   "id": "1fda74a8-8908-496e-af4a-3f3fe9ab4a93",
   "metadata": {},
   "outputs": [],
   "source": [
    "age = 25"
   ]
  },
  {
   "cell_type": "markdown",
   "id": "3b4c7e08-80de-4ec3-8308-b569d5079cd3",
   "metadata": {},
   "source": [
    "Q8. Declare a variable named price and assign the value 9.99 to it. What data type does this variable\n",
    "belong to?"
   ]
  },
  {
   "cell_type": "code",
   "execution_count": 23,
   "id": "7214d2dd-8c9f-4929-b1e1-1eff8339b812",
   "metadata": {},
   "outputs": [
    {
     "data": {
      "text/plain": [
       "float"
      ]
     },
     "execution_count": 23,
     "metadata": {},
     "output_type": "execute_result"
    }
   ],
   "source": [
    "price = 9.99\n",
    "type(price) # belong to float data type.\n",
    " "
   ]
  },
  {
   "cell_type": "markdown",
   "id": "0ce2aa79-9c50-43e5-ad5a-57ea144a509c",
   "metadata": {},
   "source": [
    "Q.9  Create a variable named name and assign your full name to it as a string. How would you print the\n",
    "value of this variable?"
   ]
  },
  {
   "cell_type": "code",
   "execution_count": 34,
   "id": "565aa52c-583b-4486-8b85-b8e195c62631",
   "metadata": {},
   "outputs": [],
   "source": [
    "name = 'Vaishnavi Suresh Mohite'"
   ]
  },
  {
   "cell_type": "code",
   "execution_count": 35,
   "id": "e126fb0b-1eeb-4df4-a30e-307b7302635b",
   "metadata": {},
   "outputs": [
    {
     "name": "stdout",
     "output_type": "stream",
     "text": [
      "Vaishnavi Suresh Mohite\n"
     ]
    }
   ],
   "source": [
    "print(name)"
   ]
  },
  {
   "cell_type": "markdown",
   "id": "c8c0f16f-f42d-43dc-9eda-b6f3ebfbd4f6",
   "metadata": {},
   "source": [
    "Q10. Given the string \"Hello, World!\", extract the substring \"World\"."
   ]
  },
  {
   "cell_type": "code",
   "execution_count": 9,
   "id": "ee300855-15e8-4512-b4f6-4a37b9202ecb",
   "metadata": {},
   "outputs": [
    {
     "data": {
      "text/plain": [
       "'World'"
      ]
     },
     "execution_count": 9,
     "metadata": {},
     "output_type": "execute_result"
    }
   ],
   "source": [
    "STRING = \"Hello, World!\"\n",
    "STRING[7:-1]"
   ]
  },
  {
   "cell_type": "markdown",
   "id": "3076130b-154f-497e-9718-2a91503bc7e2",
   "metadata": {},
   "source": [
    "Q11. Create a variable named \"is_student\" and assign it a boolean value indicating whether you are\n",
    "currently a student or not."
   ]
  },
  {
   "cell_type": "code",
   "execution_count": 22,
   "id": "d3e18a64-310e-45cc-892c-2edbcac8d3b9",
   "metadata": {},
   "outputs": [],
   "source": [
    "is_student= True #t is student \n",
    "is_student =False #it is not student"
   ]
  }
 ],
 "metadata": {
  "kernelspec": {
   "display_name": "Python 3 (ipykernel)",
   "language": "python",
   "name": "python3"
  },
  "language_info": {
   "codemirror_mode": {
    "name": "ipython",
    "version": 3
   },
   "file_extension": ".py",
   "mimetype": "text/x-python",
   "name": "python",
   "nbconvert_exporter": "python",
   "pygments_lexer": "ipython3",
   "version": "3.10.8"
  }
 },
 "nbformat": 4,
 "nbformat_minor": 5
}
